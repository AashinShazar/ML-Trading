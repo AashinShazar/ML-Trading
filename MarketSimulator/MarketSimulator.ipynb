{
 "cells": [
  {
   "cell_type": "markdown",
   "metadata": {},
   "source": [
    "# Project Overview"
   ]
  },
  {
   "cell_type": "markdown",
   "metadata": {},
   "source": [
    "In this project, we will build a market simulator that accepts trading orders while monitoring the value and performance of the portfolio."
   ]
  },
  {
   "cell_type": "markdown",
   "metadata": {},
   "source": [
    "## Our Imports"
   ]
  },
  {
   "cell_type": "code",
   "execution_count": 1,
   "metadata": {},
   "outputs": [],
   "source": [
    "import pandas as pd\n",
    "import numpy as np\n",
    "import datetime\n",
    "import yfinance as yf\n",
    "import numpy as np\n",
    "import matplotlib.pyplot as plt"
   ]
  },
  {
   "cell_type": "markdown",
   "metadata": {},
   "source": [
    "## Trade History"
   ]
  },
  {
   "cell_type": "markdown",
   "metadata": {},
   "source": [
    "Since our current portfolio is empty since no orders have been processed (and because the functionality is not complete), we should establish the data type or even just the structure of how we want our trades recorded. I've been playing with panda dataframes lately so let's go down that route.\n",
    "\n",
    "The columns represent the following:\n",
    "-"
   ]
  },
  {
   "cell_type": "code",
   "execution_count": 2,
   "metadata": {},
   "outputs": [],
   "source": [
    "tradeHistoryColumns = ['Date','Symbol','Order','OrderInt','Shares','Price','Value']\n",
    "tradeHistory = pd.DataFrame(columns=tradeHistoryColumns)"
   ]
  },
  {
   "cell_type": "code",
   "execution_count": 3,
   "metadata": {},
   "outputs": [
    {
     "data": {
      "text/html": [
       "<div>\n",
       "<style scoped>\n",
       "    .dataframe tbody tr th:only-of-type {\n",
       "        vertical-align: middle;\n",
       "    }\n",
       "\n",
       "    .dataframe tbody tr th {\n",
       "        vertical-align: top;\n",
       "    }\n",
       "\n",
       "    .dataframe thead th {\n",
       "        text-align: right;\n",
       "    }\n",
       "</style>\n",
       "<table border=\"1\" class=\"dataframe\">\n",
       "  <thead>\n",
       "    <tr style=\"text-align: right;\">\n",
       "      <th></th>\n",
       "      <th>Date</th>\n",
       "      <th>Symbol</th>\n",
       "      <th>Order</th>\n",
       "      <th>OrderInt</th>\n",
       "      <th>Shares</th>\n",
       "      <th>Price</th>\n",
       "      <th>Value</th>\n",
       "    </tr>\n",
       "  </thead>\n",
       "  <tbody>\n",
       "  </tbody>\n",
       "</table>\n",
       "</div>"
      ],
      "text/plain": [
       "Empty DataFrame\n",
       "Columns: [Date, Symbol, Order, OrderInt, Shares, Price, Value]\n",
       "Index: []"
      ]
     },
     "execution_count": 3,
     "metadata": {},
     "output_type": "execute_result"
    }
   ],
   "source": [
    "tradeHistory"
   ]
  },
  {
   "cell_type": "markdown",
   "metadata": {},
   "source": [
    "## Order Processing"
   ]
  },
  {
   "cell_type": "markdown",
   "metadata": {},
   "source": [
    "Now when it comes to executing orders, it is a tri-part problem. We first need to fetch the price of a chosen stock. We then have to decide if this is an acceptable price to purchase or sell the stock. Finally, we have to execute this order. So let's begin."
   ]
  },
  {
   "cell_type": "markdown",
   "metadata": {},
   "source": [
    "### Fetch Stock Price"
   ]
  },
  {
   "cell_type": "markdown",
   "metadata": {},
   "source": [
    "Let's leverage the yfinance python package to fetch a stock's particular price. For simplicity purposes, we will be getting the price of a chosen stock from it's adjusted close price for the day. In the future, I'm sure functionality can be extended to be more precise and allow for better stock price selection throughout the day."
   ]
  },
  {
   "cell_type": "code",
   "execution_count": 6,
   "metadata": {},
   "outputs": [],
   "source": [
    "def fetchPrice(stockChoices,inputDate):\n",
    "    priceData = yf.download(stockChoices, start=inputDate, end=inputDate)\n",
    "    return priceData\n",
    "    \n",
    "stockChoices = ['AAPL','GOOGL']"
   ]
  },
  {
   "cell_type": "code",
   "execution_count": 7,
   "metadata": {},
   "outputs": [
    {
     "name": "stdout",
     "output_type": "stream",
     "text": [
      "[*********************100%***********************]  2 of 2 downloaded\n"
     ]
    }
   ],
   "source": [
    "stockPrices = (fetchPrice(stockChoices,\"2019-05-29\")['Adj Close'])"
   ]
  },
  {
   "cell_type": "markdown",
   "metadata": {},
   "source": [
    "Now that we have the the stockPrices in a nice pandas dataframe, all we have to do to filter it is the below."
   ]
  },
  {
   "cell_type": "code",
   "execution_count": 8,
   "metadata": {},
   "outputs": [
    {
     "name": "stdout",
     "output_type": "stream",
     "text": [
      "177.38\n",
      "1119.94\n"
     ]
    }
   ],
   "source": [
    "for x in range(len(stockChoices)):\n",
    "    print (stockPrices[stockChoices[x]][0])"
   ]
  },
  {
   "cell_type": "markdown",
   "metadata": {},
   "source": [
    "### Verify Order Exection"
   ]
  },
  {
   "cell_type": "markdown",
   "metadata": {},
   "source": [
    "Here we want to decide if the price is an acceptable price to purchase/sell the stock. As well as how many units we want to purchase or sell. For now, we will have this as a manual method exercised by the user with functionality added to extend this to apply machine learning techniques to optimize it."
   ]
  },
  {
   "cell_type": "code",
   "execution_count": 9,
   "metadata": {},
   "outputs": [],
   "source": [
    "def decideOrder(stockPrice,stockUnits,tradeChoice,userControl=False):\n",
    "    if (userControl == True):\n",
    "        return (True,tradeChoice)\n",
    "    else:\n",
    "        return False "
   ]
  },
  {
   "cell_type": "code",
   "execution_count": 10,
   "metadata": {},
   "outputs": [
    {
     "data": {
      "text/plain": [
       "(True, 'BUY')"
      ]
     },
     "execution_count": 10,
     "metadata": {},
     "output_type": "execute_result"
    }
   ],
   "source": [
    "decideOrder(100,1,\"BUY\",True)"
   ]
  },
  {
   "cell_type": "markdown",
   "metadata": {},
   "source": [
    "### Update Trades"
   ]
  },
  {
   "cell_type": "markdown",
   "metadata": {},
   "source": [
    "Now if the we decicde to execute the order, we will first need a function to update our trade history to keep a records of all transactions. So here we want to work on an update trades function to reflect our executed orders impacts on our portfolio. Just a simple append of the new data we want to add to our dataframe."
   ]
  },
  {
   "cell_type": "code",
   "execution_count": 11,
   "metadata": {},
   "outputs": [],
   "source": [
    "def updateTrades(tradeHistory,addData):\n",
    "    updatedHistory = tradeHistory.append(addData)\n",
    "    return updatedHistory"
   ]
  },
  {
   "cell_type": "markdown",
   "metadata": {},
   "source": [
    "### Execute Order"
   ]
  },
  {
   "cell_type": "markdown",
   "metadata": {},
   "source": [
    "Here we will actually execute the order and update our portfolio and our current holdings. So let's work on an execute order function and a method to update our portfolio."
   ]
  },
  {
   "cell_type": "markdown",
   "metadata": {},
   "source": [
    "Our execute order function takes in the following as input:\n",
    "- stockChoices: Which stocks are to be part of this order\n",
    "- stockUnits: How many of these stocks are to be traded\n",
    "- inputDate: For which date is this order being made\n",
    "- currPortfolio: Our currentPorfolio\n",
    "- userControl: Whether to allow the user to execute or the machine learning model\n",
    "- tradeChoice: Whether to buy, sell or hold an order\n",
    "\n",
    "It will then return the boolean of the function and the updated portfolio."
   ]
  },
  {
   "cell_type": "code",
   "execution_count": 12,
   "metadata": {},
   "outputs": [],
   "source": [
    "def execOrder(stockChoices,stockUnits,inputDate,currHistory,tradeChoice,userControl=False):\n",
    "    stockPrices = (fetchPrice(stockChoices,inputDate)['Adj Close'])\n",
    "    orderDecision = decideOrder(stockPrices,stockUnits,tradeChoice,userControl)\n",
    "    \n",
    "    if (orderDecision[0] == True):\n",
    "        for x in range(len(stockChoices)):\n",
    "            tradeChoice = -1 if orderDecision[1] == \"BUY\" else 1\n",
    "            totalVal = stockUnits[x] * stockPrices[stockChoices[x]][0] * tradeChoice\n",
    "            addData = [(inputDate,stockChoices[x],orderDecision[1],(tradeChoice*-1),\n",
    "                        stockUnits[x],stockPrices[stockChoices[x]][0], totalVal)]\n",
    "            addDataFrame = pd.DataFrame(addData,columns=currHistory.columns)\n",
    "            currHistory = updateTrades(currHistory,addDataFrame)\n",
    "        return (True,currHistory)\n",
    "    else:\n",
    "        return (False,currHistory)"
   ]
  },
  {
   "cell_type": "markdown",
   "metadata": {},
   "source": [
    "### Get Portfolio Details"
   ]
  },
  {
   "cell_type": "markdown",
   "metadata": {},
   "source": [
    "Now if the order executed, I'd like to see my portfolio value. So let's create a display portfolio function to see my current portfolio value. An important consideration to remember is the fact that we may have multiple orders for the same stock. So we have to tally up and do a calculation on how many shares we still own and how much they're worth. "
   ]
  },
  {
   "cell_type": "code",
   "execution_count": 13,
   "metadata": {},
   "outputs": [],
   "source": [
    "def getPortfolioValue(currHistory):\n",
    "    \n",
    "    stocksHeld = currTrades[1].Symbol.unique()\n",
    "\n",
    "    portfolioVal = 0\n",
    "    for x in stocksHeld:\n",
    "        newDF = currTrades[1].loc[currTrades[1]['Symbol'] == x]\n",
    "        portfolioVal += newDF.Value.sum()\n",
    "        \n",
    "    return abs(portfolioVal)"
   ]
  },
  {
   "cell_type": "markdown",
   "metadata": {},
   "source": [
    "We also want to do a calculation of how many shares we hold for any stock. This is calculated through the BUY and SELL orders placed."
   ]
  },
  {
   "cell_type": "code",
   "execution_count": 21,
   "metadata": {},
   "outputs": [],
   "source": [
    "def getUnitsHeld(currHistory):\n",
    "    stocksHeld = currTrades[1].Symbol.unique()\n",
    "\n",
    "    unitsHeld = []\n",
    "    for x in stocksHeld:\n",
    "        newDF = currTrades[1].loc[currTrades[1]['Symbol'] == x]\n",
    "        unitsHeld.append((newDF.Shares * newDF.OrderInt).sum())\n",
    "\n",
    "    return unitsHeld"
   ]
  },
  {
   "cell_type": "markdown",
   "metadata": {},
   "source": [
    "We should also have a function to get our starting investment to compare to the current portfolio value. This should be straightforward in the sense we find the very first order executed and calculate how much was invested from the number of shares and share price."
   ]
  },
  {
   "cell_type": "code",
   "execution_count": 42,
   "metadata": {},
   "outputs": [],
   "source": [
    "def getStartInvestment(currHistory):\n",
    "    checkDate = min(currHistory['Date']) \n",
    "    newDF = currHistory.loc[currHistory['Date'] == checkDate]\n",
    "    iniitalInvestment = newDF.Value.sum()\n",
    "    return abs(iniitalInvestment)"
   ]
  },
  {
   "cell_type": "code",
   "execution_count": 38,
   "metadata": {},
   "outputs": [],
   "source": [
    "def displayPortfolio(currHistory):\n",
    "    totalValue = getPortfolioValue(currHistory)\n",
    "    unitsHeld = getUnitsHeld(currHistory)\n",
    "    startValue = getStartInvestment(currHistory)\n",
    "    \n",
    "    print (\"Welcome To Your Portfolio!\\n\")\n",
    "    print (\"Current holdings include: {0}\".format(currHistory.Symbol.unique()))\n",
    "    print (\"Current units held are: {0}\".format(unitsHeld))\n",
    "    print (\"Your initial investment was: {0}\".format(startValue))\n",
    "    print (\"Total Portfolio Value: {0}\".format(totalValue))"
   ]
  },
  {
   "cell_type": "markdown",
   "metadata": {},
   "source": [
    "## Sample Test"
   ]
  },
  {
   "cell_type": "markdown",
   "metadata": {},
   "source": [
    "Now let's run a sample to test all this together."
   ]
  },
  {
   "cell_type": "code",
   "execution_count": 17,
   "metadata": {},
   "outputs": [
    {
     "name": "stdout",
     "output_type": "stream",
     "text": [
      "[*********************100%***********************]  2 of 2 downloaded\n",
      "[*********************100%***********************]  2 of 2 downloaded\n"
     ]
    }
   ],
   "source": [
    "currTrades = execOrder(['AAPL','GOOGL'],[10,10],\"2019-05-01\",tradeHistory,tradeChoice=\"BUY\",userControl=True)\n",
    "currTrades = execOrder(['AAPL','GOOGL'],[5,5],\"2019-05-02\",currTrades[1],tradeChoice=\"SELL\",userControl=True)"
   ]
  },
  {
   "cell_type": "code",
   "execution_count": 43,
   "metadata": {},
   "outputs": [
    {
     "name": "stdout",
     "output_type": "stream",
     "text": [
      "Executed Order!\n",
      "\n",
      "Here is your trade history:\n",
      "\n",
      "         Date Symbol Order OrderInt Shares    Price     Value\n",
      "0  2019-05-01   AAPL   BUY        1     10   209.71  -2097.10\n",
      "0  2019-05-01  GOOGL   BUY        1     10  1173.32 -11733.20\n",
      "0  2019-05-02   AAPL  SELL       -1      5   208.35   1041.75\n",
      "0  2019-05-02  GOOGL  SELL       -1      5  1166.51   5832.55\n",
      "\n",
      "\n",
      "Welcome To Your Portfolio!\n",
      "\n",
      "Current holdings include: ['AAPL' 'GOOGL']\n",
      "Current units held are: [5, 5]\n",
      "Your initial investment was: 13830.3\n",
      "Total Portfolio Value: 6955.999999999998\n"
     ]
    }
   ],
   "source": [
    "if (currTrades[0] == True):\n",
    "    print (\"Executed Order!\\n\")\n",
    "    print (\"Here is your trade history:\\n\")\n",
    "    print (currTrades[1])\n",
    "    print (\"\\n\")\n",
    "    displayPortfolio(currTrades[1])\n",
    "else:\n",
    "    print (\"Order did not execute!\\n\")\n",
    "    print (\"Here is your trade history:\\n\")\n",
    "    print (currTrades[1])"
   ]
  },
  {
   "cell_type": "markdown",
   "metadata": {},
   "source": [
    "## Daily Portfolio Value"
   ]
  },
  {
   "cell_type": "markdown",
   "metadata": {},
   "source": [
    "Now we want to see our portfolio value over a given time frame. So let's work on a function to do just that. This will leverage our portfolio calculation function that we worked on in the portfolio evaluator and optimizer projects. By default our start date is the date of the first order executed. "
   ]
  },
  {
   "cell_type": "code",
   "execution_count": 56,
   "metadata": {},
   "outputs": [],
   "source": [
    "def dailyPortfolioValue(currPortfolio,endDate,startDate=(currTrades[1].Date.tolist())[0]):\n",
    "    dailyValues = yf.download(currPortfolio[1].Symbol.tolist(), start=startDate, end=endDate)\n",
    "    normValues = dailyValues['Adj Close'] / dailyValues['Adj Close'].iloc[0]\n",
    "    allocedValues = normValues * currPortfolio[1].Shares.tolist()\n",
    "    posVals = allocedValues * getStartInvestment(currPortfolio)\n",
    "    portVal = pd.DataFrame(get_portfolio_value(pos_vals),columns=['Value'])\n",
    "    return portVal"
   ]
  },
  {
   "cell_type": "markdown",
   "metadata": {},
   "source": [
    "Now let's test it out to see what our daily portfolio value is from the first order date to present day."
   ]
  },
  {
   "cell_type": "code",
   "execution_count": null,
   "metadata": {},
   "outputs": [],
   "source": [
    "portfolioValue = dailyPortfolioValue(currTrades,'2019-05-29')"
   ]
  },
  {
   "cell_type": "markdown",
   "metadata": {},
   "source": [
    "## Assess Portfolio Performance"
   ]
  },
  {
   "cell_type": "markdown",
   "metadata": {},
   "source": [
    "We also want to see metrics relating to our portfolio in terms of perforamnce. So we will leverage our portfolio performance function from the previous notebooks below. We will compare our portfolio's performance to the SPX."
   ]
  },
  {
   "cell_type": "code",
   "execution_count": null,
   "metadata": {},
   "outputs": [],
   "source": [
    "def get_daily_returns(inputStock):\n",
    "    \"\"\"Compute and return the daily return values.\"\"\"\n",
    "    dr = inputStock.copy()\n",
    "    dr[1:] = (inputStock[1:] / inputStock[:-1].values) - 1\n",
    "    dr.iloc[0] = 0 #start daily return counter at 0\n",
    "    return dr\n",
    "\n",
    "print (\"The daily average return is {0}\".format(get_daily_returns(MSFT[0]['5. adjusted close']).mean()))"
   ]
  },
  {
   "cell_type": "code",
   "execution_count": null,
   "metadata": {},
   "outputs": [],
   "source": [
    "def cumReturn(inputStock):\n",
    "    stockClose = pd.Series(inputStock)\n",
    "    returns = stockClose / stockClose.shift(1) - 1\n",
    "    newReturns = (returns + 1).cumprod()[len(returns)-1] - 1\n",
    "    \n",
    "    return newReturns\n",
    "\n",
    "print (\"Cumualtive return for MSFT is {0}%\".format(cumReturn(MSFT[0]['5. adjusted close'])*100))"
   ]
  },
  {
   "cell_type": "code",
   "execution_count": null,
   "metadata": {},
   "outputs": [],
   "source": [
    "print(\"The Standard Deviation of Daily Returns is {0}.\".format(dr.std()))"
   ]
  },
  {
   "cell_type": "code",
   "execution_count": null,
   "metadata": {},
   "outputs": [],
   "source": [
    "def sharpe_ratio(inputStock):\n",
    "    \n",
    "    dailyReturn =  get_daily_returns(MSFT[0]['5. adjusted close'])\n",
    "    sr = np.sqrt(100) * (dailyReturn.mean() / dailyReturn.std())\n",
    "    return sr\n",
    "\n",
    "print(\"The daily sharpe_ratio is {0}.\".format(sharpe_ratio(MSFT[0]['5. adjusted close'])))"
   ]
  },
  {
   "cell_type": "code",
   "execution_count": null,
   "metadata": {},
   "outputs": [],
   "source": [
    "def portfolioPerformance(currPortfolio):\n",
    "    print (\"Date Range: {0} to {1}\\n\".format())\n",
    "    \n",
    "    print (\"Sharpe Ratio of Portfolio: {0}\\n\".format())\n",
    "    print (\"Sharpe Ratio of $SPX: {0}\".format())\n",
    "    \n",
    "    print (\"Cumulative Return of Portfolio: {0}\\n\".format())\n",
    "    print (\"Cumulative Return of $SPX: {0}\".format())\n",
    "    \n",
    "    print (\"Standard Deviation of Portfolio: {0}\\n\".format())\n",
    "    print (\"Standard Deviation of $SPX: {0}\".format())\n",
    "    \n",
    "    print (\"Average Daily Return of Portfolio: {0}\\n\".format())\n",
    "    print (\"Average Daily Return of $SPX: {0}\".format())\n",
    "    \n",
    "    print (\"Final Value of Portfolio: {0}\\n\".format())\n",
    "    "
   ]
  },
  {
   "cell_type": "markdown",
   "metadata": {},
   "source": [
    "## Implementing Order Impact"
   ]
  },
  {
   "cell_type": "markdown",
   "metadata": {},
   "source": [
    "In this section, how orders impact the market by using random orders to drive the price up/down. "
   ]
  },
  {
   "cell_type": "code",
   "execution_count": null,
   "metadata": {},
   "outputs": [],
   "source": []
  },
  {
   "cell_type": "markdown",
   "metadata": {},
   "source": [
    "## Advancing Order Processing"
   ]
  },
  {
   "cell_type": "markdown",
   "metadata": {},
   "source": [
    "Now let's add functionality to allow for market, limit, stop orders and maybe even short positions. This will also implement a cash balance and having orders either add or take away from this balance."
   ]
  },
  {
   "cell_type": "code",
   "execution_count": null,
   "metadata": {},
   "outputs": [],
   "source": []
  },
  {
   "cell_type": "markdown",
   "metadata": {},
   "source": [
    "## Accounting for All Costs "
   ]
  },
  {
   "cell_type": "markdown",
   "metadata": {},
   "source": [
    "In this section we will tackle the real world costs associated with any order. We'll account for commission against the cash balance for each order executed. As well as scenarios for the different type of order types."
   ]
  },
  {
   "cell_type": "code",
   "execution_count": null,
   "metadata": {},
   "outputs": [],
   "source": []
  }
 ],
 "metadata": {
  "kernelspec": {
   "display_name": "Python 3",
   "language": "python",
   "name": "python3"
  },
  "language_info": {
   "codemirror_mode": {
    "name": "ipython",
    "version": 3
   },
   "file_extension": ".py",
   "mimetype": "text/x-python",
   "name": "python",
   "nbconvert_exporter": "python",
   "pygments_lexer": "ipython3",
   "version": "3.6.6"
  }
 },
 "nbformat": 4,
 "nbformat_minor": 2
}
