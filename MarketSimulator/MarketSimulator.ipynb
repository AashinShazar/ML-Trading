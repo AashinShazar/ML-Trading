{
 "cells": [
  {
   "cell_type": "markdown",
   "metadata": {},
   "source": [
    "# Project Overview"
   ]
  },
  {
   "cell_type": "markdown",
   "metadata": {},
   "source": [
    "In this project, we will build a market simulator that accepts trading orders while monitoring the value and performance of the portfolio."
   ]
  },
  {
   "cell_type": "markdown",
   "metadata": {},
   "source": [
    "## Our Imports"
   ]
  },
  {
   "cell_type": "code",
   "execution_count": 121,
   "metadata": {},
   "outputs": [],
   "source": [
    "import pandas as pd\n",
    "import numpy as np\n",
    "import datetime\n",
    "import yfinance as yf\n",
    "import numpy as np\n",
    "import matplotlib.pyplot as plt"
   ]
  },
  {
   "cell_type": "markdown",
   "metadata": {},
   "source": [
    "## Current Portfolio"
   ]
  },
  {
   "cell_type": "markdown",
   "metadata": {},
   "source": [
    "Since our current portfolio is empty since no orders have been processed (and because the functionality is not complete), we should establish the data type or even just the structure of our portfolio. I've been playing with panda dataframes lately so let's go down that route."
   ]
  },
  {
   "cell_type": "code",
   "execution_count": 122,
   "metadata": {},
   "outputs": [],
   "source": [
    "portfolioColumns = ['Date','Symbol','Order','Shares','Price']\n",
    "currentPortfolio = pd.DataFrame(columns=portfolioColumns)"
   ]
  },
  {
   "cell_type": "code",
   "execution_count": 123,
   "metadata": {},
   "outputs": [
    {
     "data": {
      "text/html": [
       "<div>\n",
       "<style scoped>\n",
       "    .dataframe tbody tr th:only-of-type {\n",
       "        vertical-align: middle;\n",
       "    }\n",
       "\n",
       "    .dataframe tbody tr th {\n",
       "        vertical-align: top;\n",
       "    }\n",
       "\n",
       "    .dataframe thead th {\n",
       "        text-align: right;\n",
       "    }\n",
       "</style>\n",
       "<table border=\"1\" class=\"dataframe\">\n",
       "  <thead>\n",
       "    <tr style=\"text-align: right;\">\n",
       "      <th></th>\n",
       "      <th>Date</th>\n",
       "      <th>Symbol</th>\n",
       "      <th>Order</th>\n",
       "      <th>Shares</th>\n",
       "      <th>Price</th>\n",
       "    </tr>\n",
       "  </thead>\n",
       "  <tbody>\n",
       "  </tbody>\n",
       "</table>\n",
       "</div>"
      ],
      "text/plain": [
       "Empty DataFrame\n",
       "Columns: [Date, Symbol, Order, Shares, Price]\n",
       "Index: []"
      ]
     },
     "execution_count": 123,
     "metadata": {},
     "output_type": "execute_result"
    }
   ],
   "source": [
    "currentPortfolio"
   ]
  },
  {
   "cell_type": "markdown",
   "metadata": {},
   "source": [
    "## Order Processing"
   ]
  },
  {
   "cell_type": "markdown",
   "metadata": {},
   "source": [
    "Now when it comes to executing orders, it is a tri-part problem. We first need to fetch the price of a chosen stock. We then have to decide if this is an acceptable price to purchase or sell the stock. Finally, we have to execute this order. So let's begin."
   ]
  },
  {
   "cell_type": "markdown",
   "metadata": {},
   "source": [
    "### Fetch Stock Price"
   ]
  },
  {
   "cell_type": "markdown",
   "metadata": {},
   "source": [
    "Let's leverage the yfinance python package to fetch a stock's particular price. For simplicity purposes, we will be getting the price of a chosen stock from it's adjusted close price for the day. In the future, I'm sure functionality can be extended to be more precise and allow for better stock price selection throughout the day."
   ]
  },
  {
   "cell_type": "code",
   "execution_count": 124,
   "metadata": {},
   "outputs": [],
   "source": [
    "def fetchPrice(stockChoices,inputDate):\n",
    "    priceData = yf.download(stocks, start=inputDate, end=inputDate)\n",
    "    return priceData\n",
    "    \n",
    "stockChoices = ['AAPL','GOOGL']"
   ]
  },
  {
   "cell_type": "code",
   "execution_count": 125,
   "metadata": {},
   "outputs": [
    {
     "name": "stdout",
     "output_type": "stream",
     "text": [
      "[*********************100%***********************]  2 of 2 downloaded\n"
     ]
    }
   ],
   "source": [
    "stockPrices = (fetchPrice(stockChoices,\"2019-05-29\")['Adj Close'])"
   ]
  },
  {
   "cell_type": "markdown",
   "metadata": {},
   "source": [
    "Now that we have the the stockPrices in a nice pandas dataframe, all we have to do to filter it is the below."
   ]
  },
  {
   "cell_type": "code",
   "execution_count": 160,
   "metadata": {},
   "outputs": [
    {
     "name": "stdout",
     "output_type": "stream",
     "text": [
      "177.38\n",
      "1119.94\n"
     ]
    }
   ],
   "source": [
    "for x in range(len(stockChoices)):\n",
    "    print (stockPrices[stockChoices[x]][0])"
   ]
  },
  {
   "cell_type": "markdown",
   "metadata": {},
   "source": [
    "### Verify Order Exection"
   ]
  },
  {
   "cell_type": "markdown",
   "metadata": {},
   "source": [
    "Here we want to decide if the price is an acceptable price to purchase/sell the stock. As well as how many units we want to purchase or sell. For now, we will have this as a manual method exercised by the user with functionality added to extend this to apply machine learning techniques to optimize it."
   ]
  },
  {
   "cell_type": "code",
   "execution_count": 256,
   "metadata": {},
   "outputs": [],
   "source": [
    "def decideOrder(stockPrice,stockUnits,userControl=False,tradeChoice=\"NA\"):\n",
    "    if (userControl == True):\n",
    "        return (True,tradeChoice)\n",
    "    else:\n",
    "        return False "
   ]
  },
  {
   "cell_type": "markdown",
   "metadata": {},
   "source": [
    "### Execute Order"
   ]
  },
  {
   "cell_type": "markdown",
   "metadata": {},
   "source": [
    "Here we will actually execute the order and update our portfolio and our current holdings. So let's work on an execute order function and a method to update our portfolio."
   ]
  },
  {
   "cell_type": "markdown",
   "metadata": {},
   "source": [
    "Here we want to work on an updatePortfolio function to reflect our executed orders impacts on our portfolio. "
   ]
  },
  {
   "cell_type": "code",
   "execution_count": 267,
   "metadata": {},
   "outputs": [],
   "source": [
    "def updatePortfolio(currPortfolio,addData):\n",
    "    updatedPortfolio = currPortfolio.append(addData)\n",
    "    return updatedPortfolio"
   ]
  },
  {
   "cell_type": "markdown",
   "metadata": {},
   "source": [
    "Our execute order function takes in the following as input:\n",
    "- stockChoices: Which stocks are to be part of this order\n",
    "- stockUnits: How many of these stocks are to be traded\n",
    "- inputDate: For which date is this order being made\n",
    "- currPortfolio: Our currentPorfolio\n",
    "- userControl: Whether to allow the user to execute or the machine learning model\n",
    "- tradeChoice: Whether to buy, sell or hold an order\n",
    "\n",
    "It will then return the boolean of the function and the updated portfolio."
   ]
  },
  {
   "cell_type": "code",
   "execution_count": 268,
   "metadata": {},
   "outputs": [],
   "source": [
    "def execOrder(stockChoices,stockUnits,inputDate,currPortfolio,userControl=False,tradeChoice=\"NA\"):\n",
    "    stockPrices = (fetchPrice(stockChoices,inputDate)['Adj Close'])\n",
    "    orderDecision = decideOrder(stockPrices,stockUnits,userControl,tradeChoice)\n",
    "    \n",
    "    if (orderDecision[0] == True):\n",
    "        for x in range(len(stockChoices)):\n",
    "            addData = [(inputDate,stockChoices[x],orderDecision[1],stockUnits[x],stockPrices[stockChoices[x]][0])]\n",
    "            addDataFrame = pd.DataFrame(addData,columns=currPortfolio.columns)\n",
    "            currPortfolio = updatePortfolio(currPortfolio,addDataFrame)\n",
    "        return (True,currPortfolio)\n",
    "    else:\n",
    "        return (False,currPortfolio)"
   ]
  },
  {
   "cell_type": "markdown",
   "metadata": {},
   "source": [
    "Now if the order executed, I'd like to see my portfolio value. So let's create a display portfolio function to see my current portfolio value. An important consideration to remember is the fact that we may have multiple orders for the same stock. So we have to tally up and do a calculation on how many shares we still own and how much they're worth. "
   ]
  },
  {
   "cell_type": "code",
   "execution_count": 317,
   "metadata": {},
   "outputs": [],
   "source": [
    "def getPortfolioValue(currPortfolio):\n",
    "    return portfolioValue"
   ]
  },
  {
   "cell_type": "markdown",
   "metadata": {},
   "source": [
    "We should also have a function to get our starting investment to compare to the current portfolio value. This should be straightforward in the sense we find the very first order executed and calculate how much was invested from the number of shares and share price."
   ]
  },
  {
   "cell_type": "code",
   "execution_count": null,
   "metadata": {},
   "outputs": [],
   "source": [
    "def getStartInvestment(currPortfolio):\n",
    "    return initialInvestment"
   ]
  },
  {
   "cell_type": "code",
   "execution_count": 314,
   "metadata": {},
   "outputs": [],
   "source": [
    "def displayPortfolioValue(currPortfolio):\n",
    "    totalValue = getPortfolioValue(currPortfolio)\n",
    "    startValue = getStartInvestment(currPortfolio)\n",
    "    \n",
    "    print (\"Welcome To Your Portfolio!\\n\")\n",
    "    print (\"Current holdings include: {0}\".format(currPortfolio[1].Symbol.tolist()))\n",
    "    print (\"Current units held are: {0}\".format(currPortfolio[1].Shares.tolist()))\n",
    "    print (\"Your initial investment was: {0}\".format(startValue))\n",
    "    print (\"Total Portfolio Value: {0}\".format(totalValue))"
   ]
  },
  {
   "cell_type": "markdown",
   "metadata": {},
   "source": [
    "Now let's run a sample to test all this together."
   ]
  },
  {
   "cell_type": "code",
   "execution_count": 335,
   "metadata": {},
   "outputs": [
    {
     "name": "stdout",
     "output_type": "stream",
     "text": [
      "[*********************100%***********************]  2 of 2 downloaded\n"
     ]
    }
   ],
   "source": [
    "updatedPortfolio = execOrder(['AAPL','GOOGL'],[10,10],\"2019-05-01\",currentPortfolio)"
   ]
  },
  {
   "cell_type": "code",
   "execution_count": 336,
   "metadata": {},
   "outputs": [
    {
     "name": "stdout",
     "output_type": "stream",
     "text": [
      "Executed Order!\n",
      "\n",
      "Here is your trade history:\n",
      "\n",
      "         Date Symbol Order Shares    Price\n",
      "0  2019-05-01   AAPL   BUY     10   209.71\n",
      "0  2019-05-01  GOOGL   BUY     10  1173.32\n",
      "\n",
      "\n",
      "Welcome To Your Portfolio!\n",
      "\n",
      "Current holdings include: ['AAPL', 'GOOGL']\n",
      "Current units held are: [10, 10]\n",
      "Total Portfolio Value: 13830.3\n"
     ]
    }
   ],
   "source": [
    "if (updatedPortfolio[0] == True):\n",
    "    print (\"Executed Order!\\n\")\n",
    "    print (\"Here is your trade history:\\n\")\n",
    "    print (updatedPortfolio[1])\n",
    "    print (\"\\n\")\n",
    "    displayPortfolioValue(updatedPortfolio)\n",
    "else:\n",
    "    print (\"Order did not execute!\\n\")\n",
    "    print (\"Here is your trade history:\\n\")\n",
    "    print (updatedPortfolio[1])"
   ]
  },
  {
   "cell_type": "markdown",
   "metadata": {},
   "source": [
    "## Daily Portfolio Value"
   ]
  },
  {
   "cell_type": "markdown",
   "metadata": {},
   "source": [
    "Now we want to see our portfolio value over a given time frame. So let's work on a function to do just that. This will leverage our portfolio calculation function that we worked on in the portfolio evaluator and optimizer projects."
   ]
  },
  {
   "cell_type": "code",
   "execution_count": 332,
   "metadata": {},
   "outputs": [],
   "source": [
    "def dailyPortfolioValue(currPortfolio,endDate,startDate=(updatedPortfolio[1].Date.tolist())[0]):\n",
    "    dailyValues = yf.download(currPortfolio[1].Symbol.tolist(), start=startDate, end=endDate)\n",
    "    normValues = dailyValues['Adj Close'] / dailyValues['Adj Close'].iloc[0]\n",
    "    allocedValues = normValues * currPortfolio[1].Shares.tolist()\n",
    "    posVals = allocedValues * getStartInvestment(currPortfolio)\n",
    "    portVal = pd.DataFrame(get_portfolio_value(pos_vals),columns=['Value'])\n",
    "    return portVal"
   ]
  },
  {
   "cell_type": "markdown",
   "metadata": {},
   "source": [
    "Now let's test it out to see what our daily portfolio value is from the first order date to present day."
   ]
  },
  {
   "cell_type": "code",
   "execution_count": null,
   "metadata": {},
   "outputs": [],
   "source": [
    "portfolioValue = dailyPortfolioValue(updatedPortfolio,'2019-05-29')"
   ]
  },
  {
   "cell_type": "markdown",
   "metadata": {},
   "source": [
    "## Assess Portfolio Performance"
   ]
  },
  {
   "cell_type": "markdown",
   "metadata": {},
   "source": [
    "## Accounting for All Costs "
   ]
  },
  {
   "cell_type": "markdown",
   "metadata": {},
   "source": [
    "In this section we will tackle the real world costs associated with any order. We'll account for an initial investment as our starting cash balance. This is to check if we have enough funds to purchase the shares we need. On the other hand, we will also account for commission against the cash balance for each order executed. "
   ]
  },
  {
   "cell_type": "code",
   "execution_count": null,
   "metadata": {},
   "outputs": [],
   "source": []
  },
  {
   "cell_type": "markdown",
   "metadata": {},
   "source": [
    "## Implementing Order Impact"
   ]
  },
  {
   "cell_type": "markdown",
   "metadata": {},
   "source": [
    "In this section, how orders impact the market by using random orders to drive the price up/down. "
   ]
  },
  {
   "cell_type": "code",
   "execution_count": null,
   "metadata": {},
   "outputs": [],
   "source": []
  },
  {
   "cell_type": "markdown",
   "metadata": {},
   "source": [
    "## Advancing Order Processing"
   ]
  },
  {
   "cell_type": "markdown",
   "metadata": {},
   "source": [
    "Now let's add functionality to allow for market, limit, stop orders and maybe even short positions."
   ]
  },
  {
   "cell_type": "code",
   "execution_count": null,
   "metadata": {},
   "outputs": [],
   "source": []
  }
 ],
 "metadata": {
  "kernelspec": {
   "display_name": "Python 3",
   "language": "python",
   "name": "python3"
  },
  "language_info": {
   "codemirror_mode": {
    "name": "ipython",
    "version": 3
   },
   "file_extension": ".py",
   "mimetype": "text/x-python",
   "name": "python",
   "nbconvert_exporter": "python",
   "pygments_lexer": "ipython3",
   "version": "3.6.6"
  }
 },
 "nbformat": 4,
 "nbformat_minor": 2
}
