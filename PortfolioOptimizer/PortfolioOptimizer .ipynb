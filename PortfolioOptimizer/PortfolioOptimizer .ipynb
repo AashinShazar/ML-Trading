{
 "cells": [
  {
   "cell_type": "markdown",
   "metadata": {},
   "source": [
    "# Project Overview"
   ]
  },
  {
   "cell_type": "markdown",
   "metadata": {},
   "source": [
    "This project will optimize a portfolio to maximum the sharpe ratio. This will be done through a smarter optimization of a designated amount of funds towards the allocation of stock choices.\n"
   ]
  },
  {
   "cell_type": "markdown",
   "metadata": {},
   "source": [
    "## Our Imports"
   ]
  },
  {
   "cell_type": "code",
   "execution_count": 3,
   "metadata": {},
   "outputs": [],
   "source": [
    "import pandas as pd  \n",
    "import numpy as np\n",
    "import matplotlib.pyplot as plt\n",
    "import seaborn as sns\n",
    "import quandl\n",
    "import scipy.optimize as sco\n",
    "\n",
    "plt.style.use('fivethirtyeight')\n",
    "np.random.seed(777)\n",
    "\n",
    "%matplotlib inline\n",
    "%config InlineBackend.figure_format = 'retina'"
   ]
  },
  {
   "cell_type": "markdown",
   "metadata": {},
   "source": [
    "## Get Data"
   ]
  },
  {
   "cell_type": "markdown",
   "metadata": {},
   "source": [
    "For this project, we will be leveraging quandl and its free API service to retrieve stock information. AlphaVantage's API was helpful in the previous project but it had some limitations regarding accessing data information and setting data ranges. So we will use quandl's service moving forward."
   ]
  },
  {
   "cell_type": "code",
   "execution_count": 9,
   "metadata": {},
   "outputs": [
    {
     "data": {
      "text/html": [
       "<div>\n",
       "<style scoped>\n",
       "    .dataframe tbody tr th:only-of-type {\n",
       "        vertical-align: middle;\n",
       "    }\n",
       "\n",
       "    .dataframe tbody tr th {\n",
       "        vertical-align: top;\n",
       "    }\n",
       "\n",
       "    .dataframe thead th {\n",
       "        text-align: right;\n",
       "    }\n",
       "</style>\n",
       "<table border=\"1\" class=\"dataframe\">\n",
       "  <thead>\n",
       "    <tr style=\"text-align: right;\">\n",
       "      <th></th>\n",
       "      <th>date</th>\n",
       "      <th>ticker</th>\n",
       "      <th>adj_close</th>\n",
       "    </tr>\n",
       "    <tr>\n",
       "      <th>None</th>\n",
       "      <th></th>\n",
       "      <th></th>\n",
       "      <th></th>\n",
       "    </tr>\n",
       "  </thead>\n",
       "  <tbody>\n",
       "    <tr>\n",
       "      <th>0</th>\n",
       "      <td>2017-12-29</td>\n",
       "      <td>GOOGL</td>\n",
       "      <td>1053.40</td>\n",
       "    </tr>\n",
       "    <tr>\n",
       "      <th>1</th>\n",
       "      <td>2017-12-28</td>\n",
       "      <td>GOOGL</td>\n",
       "      <td>1055.95</td>\n",
       "    </tr>\n",
       "    <tr>\n",
       "      <th>2</th>\n",
       "      <td>2017-12-27</td>\n",
       "      <td>GOOGL</td>\n",
       "      <td>1060.20</td>\n",
       "    </tr>\n",
       "    <tr>\n",
       "      <th>3</th>\n",
       "      <td>2017-12-26</td>\n",
       "      <td>GOOGL</td>\n",
       "      <td>1065.85</td>\n",
       "    </tr>\n",
       "    <tr>\n",
       "      <th>4</th>\n",
       "      <td>2017-12-22</td>\n",
       "      <td>GOOGL</td>\n",
       "      <td>1068.86</td>\n",
       "    </tr>\n",
       "  </tbody>\n",
       "</table>\n",
       "</div>"
      ],
      "text/plain": [
       "           date ticker  adj_close\n",
       "None                             \n",
       "0    2017-12-29  GOOGL    1053.40\n",
       "1    2017-12-28  GOOGL    1055.95\n",
       "2    2017-12-27  GOOGL    1060.20\n",
       "3    2017-12-26  GOOGL    1065.85\n",
       "4    2017-12-22  GOOGL    1068.86"
      ]
     },
     "execution_count": 9,
     "metadata": {},
     "output_type": "execute_result"
    }
   ],
   "source": [
    "quandl.ApiConfig.api_key = '7WKTSM5hsNzzZcRhg3Zq'\n",
    "stocks = ['AAPL','AMZN','GOOGL','FB']\n",
    "data = quandl.get_table('WIKI/PRICES', ticker = stocks,\n",
    "                        qopts = { 'columns': ['date', 'ticker', 'adj_close'] },\n",
    "                        date = { 'gte': '2016-1-1', 'lte': '2017-12-31' }, paginate=True)\n",
    "data.head()"
   ]
  },
  {
   "cell_type": "markdown",
   "metadata": {},
   "source": [
    "## Establish Our Portfolio"
   ]
  },
  {
   "cell_type": "markdown",
   "metadata": {},
   "source": [
    "We will be extending the function used in the PortfolioEvaluator project file to help establish our portfolio."
   ]
  },
  {
   "cell_type": "code",
   "execution_count": null,
   "metadata": {},
   "outputs": [],
   "source": [
    "import time\n",
    "\n",
    "#store data here to avoid API usage\n",
    "stockDataList = []\n",
    "\n",
    "def portfolioStatistics(inputStocks, stocksAlloc): \n",
    "    \n",
    "    ts = TimeSeries(key='R9PCESGM8SQRD71G', output_format='pandas', indexing_type='date')    \n",
    "    \n",
    "    dailyReturn = 0\n",
    "    sharpeRatio = 0\n",
    "    stdDailyReturn = 0\n",
    "    cumulativeReturn = 0\n",
    "    stdDailyReturn = 0\n",
    "    \n",
    "    for stockName in inputStocks: #store data to a list so we don't abuse API call\n",
    "        stockDataList.append(ts.get_daily_adjusted(stockName, outputsize='compact')[0]['5. adjusted close'])\n",
    "        time.sleep(1) #delay to prevent timeout issues\n",
    "        \n",
    "    for x in range(len(inputStocks)):\n",
    "        dailyReturn += get_daily_returns(stockDataList[x]).mean() * stocksAlloc[x]\n",
    "        cumulativeReturn += cumReturn(stockDataList[x]) * stocksAlloc[x]\n",
    "        stdDailyReturn += get_daily_returns(stockDataList[x]).std() * stocksAlloc[x]\n",
    "        #print (get_daily_returns(stockDataList[x]).mean() * stocksAlloc[x])\n",
    "        \n",
    "    sharpeRatio = np.sqrt(100) * (dailyReturn/stdDailyReturn)\n",
    "    \n",
    "    print (\"====================Welcome to your portfolio!====================\")\n",
    "    print (\"Start Date: 2019-01-02\")\n",
    "    print (\"End Date: 2019-05-24\")\n",
    "    print (\"Stock Assets: {0}\".format(inputStocks))\n",
    "    print (\"Stock Allocations: {0}\".format(stocksAlloc))\n",
    "    print (\"Sharpe Ratio: {0}\".format(sharpeRatio))\n",
    "    print (\"Volatility / std of daily returns: {0}\".format(stdDailyReturn))\n",
    "    print (\"Average Daily Return: {0}\".format(dailyReturn))\n",
    "    print (\"Cumulative Return: {0}\".format(cumulativeReturn))\n",
    "    print (\"=========================Make some money!=========================\")\n",
    "    \n",
    "            \n",
    "\n",
    "inputStocks = ['MSFT','AAPL', 'GOOGL', 'TSLA']\n",
    "stocksAlloc = [0.5,0.25,0.3,0.1]\n",
    "portfolioStatistics(inputStocks, stocksAlloc)"
   ]
  },
  {
   "cell_type": "markdown",
   "metadata": {},
   "source": [
    "## Get Daily Portfolio Value"
   ]
  },
  {
   "cell_type": "markdown",
   "metadata": {},
   "source": [
    "We will again be extending the function used in the PortfolioEvaluator project file to get the daily portfolio values."
   ]
  },
  {
   "cell_type": "code",
   "execution_count": null,
   "metadata": {},
   "outputs": [],
   "source": [
    "def dailyPortfolioValue(stockDataList):\n",
    "    tempStockList = stockDataList\n",
    "    tempCryptoList = cryptoDataList\n",
    "    \n",
    "    for x in range (len(tempStockList)):\n",
    "        for y in range(len(tempStockList[x])):\n",
    "            tempStockList[x][y] = tempStockList[x][y] * stocksAlloc[x]\n",
    "\n",
    "    for x in range (len(tempStockList)):\n",
    "        for y in range(len(tempStockList[x])):\n",
    "            tempStockList[0][y] += tempStockList[x][y] \n",
    "                        \n",
    "    ourPortfolio = pd.DataFrame(tempStockList[0])\n",
    "\n",
    "    return ourPortfolio"
   ]
  },
  {
   "cell_type": "markdown",
   "metadata": {},
   "source": [
    "## Chart Our Portfolio"
   ]
  },
  {
   "cell_type": "markdown",
   "metadata": {},
   "source": [
    "Here we will chart our unoptimized portfolio against the SPY to see how it's performing."
   ]
  },
  {
   "cell_type": "code",
   "execution_count": null,
   "metadata": {},
   "outputs": [],
   "source": [
    "df_temp = pd.concat([ourPortfolio['5. adjusted close'], SPY[0]['5. adjusted close']], keys=['Our Portfolio', 'SPY'], axis=1)\n",
    "\n",
    "df_temp = df_temp/df_temp.iloc[0,:]\n",
    "plt.grid()\n",
    "ax = df_temp['Our Portfolio'].plot(color='blue', grid=True, label='Our Portfolio')\n",
    "ax = df_temp['SPY'].plot(color='green', grid=True, label='SPY')\n",
    "ax.set_xlabel(\"Date\")\n",
    "ax.set_ylabel(\"Normalized Value\")\n",
    "plt.legend()\n",
    "plt.show()"
   ]
  },
  {
   "cell_type": "markdown",
   "metadata": {},
   "source": [
    "## Maximimze for Sharpe Ratio"
   ]
  },
  {
   "cell_type": "markdown",
   "metadata": {},
   "source": [
    "Now we will create our maximizer function to maximime for the sharpe ratio. \n",
    "\n",
    "If you recall, the sharpe ratio is simply: \n",
    "\n",
    "![title](https://www.macroption.com/images/formulas/sharpe-ratio-formula-explained.png)"
   ]
  },
  {
   "cell_type": "code",
   "execution_count": null,
   "metadata": {},
   "outputs": [],
   "source": []
  },
  {
   "cell_type": "markdown",
   "metadata": {},
   "source": [
    "## Let's Optimize"
   ]
  },
  {
   "cell_type": "markdown",
   "metadata": {},
   "source": [
    "Now let's optimize our portfolio for the maximum possible sharpe ratio."
   ]
  },
  {
   "cell_type": "code",
   "execution_count": null,
   "metadata": {},
   "outputs": [],
   "source": []
  },
  {
   "cell_type": "markdown",
   "metadata": {},
   "source": [
    "## Normalize and Plot Our Optimized Portfolio"
   ]
  },
  {
   "cell_type": "markdown",
   "metadata": {},
   "source": [
    "Looking to the charts..."
   ]
  }
 ],
 "metadata": {
  "kernelspec": {
   "display_name": "Python 3",
   "language": "python",
   "name": "python3"
  },
  "language_info": {
   "codemirror_mode": {
    "name": "ipython",
    "version": 3
   },
   "file_extension": ".py",
   "mimetype": "text/x-python",
   "name": "python",
   "nbconvert_exporter": "python",
   "pygments_lexer": "ipython3",
   "version": "3.6.6"
  }
 },
 "nbformat": 4,
 "nbformat_minor": 2
}
